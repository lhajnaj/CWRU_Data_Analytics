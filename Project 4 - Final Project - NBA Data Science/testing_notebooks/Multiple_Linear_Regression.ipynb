{
 "cells": [
  {
   "cell_type": "code",
   "execution_count": 1,
   "metadata": {},
   "outputs": [],
   "source": [
    "%matplotlib inline\n",
    "import pandas as pd\n",
    "import matplotlib.pyplot as plt\n",
    "import numpy as np\n",
    "import statsmodels.api as sm"
   ]
  },
  {
   "cell_type": "code",
   "execution_count": 2,
   "metadata": {},
   "outputs": [],
   "source": [
    "from sklearn.linear_model import LinearRegression\n",
    "from sklearn.model_selection import train_test_split"
   ]
  },
  {
   "cell_type": "code",
   "execution_count": 3,
   "metadata": {},
   "outputs": [
    {
     "data": {
      "text/html": [
       "<div>\n",
       "<style scoped>\n",
       "    .dataframe tbody tr th:only-of-type {\n",
       "        vertical-align: middle;\n",
       "    }\n",
       "\n",
       "    .dataframe tbody tr th {\n",
       "        vertical-align: top;\n",
       "    }\n",
       "\n",
       "    .dataframe thead th {\n",
       "        text-align: right;\n",
       "    }\n",
       "</style>\n",
       "<table border=\"1\" class=\"dataframe\">\n",
       "  <thead>\n",
       "    <tr style=\"text-align: right;\">\n",
       "      <th></th>\n",
       "      <th>Unnamed: 0</th>\n",
       "      <th>rk</th>\n",
       "      <th>player</th>\n",
       "      <th>tm</th>\n",
       "      <th>salary_2019to2020</th>\n",
       "      <th>salary_2020to2021</th>\n",
       "      <th>salary_2021to2022</th>\n",
       "      <th>salary_2022to2023</th>\n",
       "      <th>salary_2023to2024</th>\n",
       "      <th>salary_2024to2025</th>\n",
       "      <th>...</th>\n",
       "      <th>fta</th>\n",
       "      <th>ft_prc</th>\n",
       "      <th>oreb</th>\n",
       "      <th>dreb</th>\n",
       "      <th>reb</th>\n",
       "      <th>ast</th>\n",
       "      <th>tov</th>\n",
       "      <th>stl</th>\n",
       "      <th>blk</th>\n",
       "      <th>plusminus</th>\n",
       "    </tr>\n",
       "  </thead>\n",
       "  <tbody>\n",
       "    <tr>\n",
       "      <th>0</th>\n",
       "      <td>0</td>\n",
       "      <td>1.0</td>\n",
       "      <td>Stephen Curry</td>\n",
       "      <td>GSW</td>\n",
       "      <td>40231758</td>\n",
       "      <td>$43,006,362</td>\n",
       "      <td>$45,780,966</td>\n",
       "      <td>NaN</td>\n",
       "      <td>NaN</td>\n",
       "      <td>NaN</td>\n",
       "      <td>...</td>\n",
       "      <td>4.2</td>\n",
       "      <td>91.6</td>\n",
       "      <td>0.7</td>\n",
       "      <td>4.7</td>\n",
       "      <td>5.3</td>\n",
       "      <td>5.2</td>\n",
       "      <td>2.8</td>\n",
       "      <td>1.3</td>\n",
       "      <td>0.4</td>\n",
       "      <td>10.0</td>\n",
       "    </tr>\n",
       "    <tr>\n",
       "      <th>1</th>\n",
       "      <td>1</td>\n",
       "      <td>2.0</td>\n",
       "      <td>Chris Paul</td>\n",
       "      <td>OKC</td>\n",
       "      <td>38506482</td>\n",
       "      <td>$41,358,814</td>\n",
       "      <td>$44,211,146</td>\n",
       "      <td>NaN</td>\n",
       "      <td>NaN</td>\n",
       "      <td>NaN</td>\n",
       "      <td>...</td>\n",
       "      <td>3.5</td>\n",
       "      <td>86.2</td>\n",
       "      <td>0.6</td>\n",
       "      <td>3.9</td>\n",
       "      <td>4.6</td>\n",
       "      <td>8.2</td>\n",
       "      <td>2.6</td>\n",
       "      <td>2.0</td>\n",
       "      <td>0.3</td>\n",
       "      <td>5.2</td>\n",
       "    </tr>\n",
       "    <tr>\n",
       "      <th>2</th>\n",
       "      <td>2</td>\n",
       "      <td>3.0</td>\n",
       "      <td>Russell Westbrook</td>\n",
       "      <td>HOU</td>\n",
       "      <td>38178000</td>\n",
       "      <td>$41,006,000</td>\n",
       "      <td>$43,848,000</td>\n",
       "      <td>$46,662,000</td>\n",
       "      <td>NaN</td>\n",
       "      <td>NaN</td>\n",
       "      <td>...</td>\n",
       "      <td>6.2</td>\n",
       "      <td>65.6</td>\n",
       "      <td>1.5</td>\n",
       "      <td>9.6</td>\n",
       "      <td>11.1</td>\n",
       "      <td>10.7</td>\n",
       "      <td>4.5</td>\n",
       "      <td>1.9</td>\n",
       "      <td>0.5</td>\n",
       "      <td>4.0</td>\n",
       "    </tr>\n",
       "    <tr>\n",
       "      <th>3</th>\n",
       "      <td>3</td>\n",
       "      <td>4.0</td>\n",
       "      <td>John Wall</td>\n",
       "      <td>WAS</td>\n",
       "      <td>37800000</td>\n",
       "      <td>$40,824,000</td>\n",
       "      <td>$43,848,000</td>\n",
       "      <td>$46,872,000</td>\n",
       "      <td>NaN</td>\n",
       "      <td>NaN</td>\n",
       "      <td>...</td>\n",
       "      <td>5.5</td>\n",
       "      <td>69.7</td>\n",
       "      <td>0.5</td>\n",
       "      <td>3.2</td>\n",
       "      <td>3.6</td>\n",
       "      <td>8.7</td>\n",
       "      <td>3.8</td>\n",
       "      <td>1.5</td>\n",
       "      <td>0.9</td>\n",
       "      <td>-4.8</td>\n",
       "    </tr>\n",
       "    <tr>\n",
       "      <th>4</th>\n",
       "      <td>4</td>\n",
       "      <td>5.0</td>\n",
       "      <td>James Harden</td>\n",
       "      <td>HOU</td>\n",
       "      <td>37800000</td>\n",
       "      <td>$40,824,000</td>\n",
       "      <td>$43,848,000</td>\n",
       "      <td>$46,872,000</td>\n",
       "      <td>NaN</td>\n",
       "      <td>NaN</td>\n",
       "      <td>...</td>\n",
       "      <td>11.0</td>\n",
       "      <td>87.9</td>\n",
       "      <td>0.8</td>\n",
       "      <td>5.8</td>\n",
       "      <td>6.6</td>\n",
       "      <td>7.5</td>\n",
       "      <td>5.0</td>\n",
       "      <td>2.0</td>\n",
       "      <td>0.7</td>\n",
       "      <td>4.6</td>\n",
       "    </tr>\n",
       "  </tbody>\n",
       "</table>\n",
       "<p>5 rows × 41 columns</p>\n",
       "</div>"
      ],
      "text/plain": [
       "   Unnamed: 0   rk             player   tm  salary_2019to2020  \\\n",
       "0           0  1.0      Stephen Curry  GSW           40231758   \n",
       "1           1  2.0         Chris Paul  OKC           38506482   \n",
       "2           2  3.0  Russell Westbrook  HOU           38178000   \n",
       "3           3  4.0          John Wall  WAS           37800000   \n",
       "4           4  5.0       James Harden  HOU           37800000   \n",
       "\n",
       "  salary_2020to2021 salary_2021to2022 salary_2022to2023 salary_2023to2024  \\\n",
       "0      $43,006,362       $45,780,966                NaN               NaN   \n",
       "1      $41,358,814       $44,211,146                NaN               NaN   \n",
       "2      $41,006,000       $43,848,000       $46,662,000                NaN   \n",
       "3      $40,824,000       $43,848,000       $46,872,000                NaN   \n",
       "4      $40,824,000       $43,848,000       $46,872,000                NaN   \n",
       "\n",
       "  salary_2024to2025  ...   fta ft_prc  oreb dreb   reb   ast  tov  stl  blk  \\\n",
       "0               NaN  ...   4.2   91.6   0.7  4.7   5.3   5.2  2.8  1.3  0.4   \n",
       "1               NaN  ...   3.5   86.2   0.6  3.9   4.6   8.2  2.6  2.0  0.3   \n",
       "2               NaN  ...   6.2   65.6   1.5  9.6  11.1  10.7  4.5  1.9  0.5   \n",
       "3               NaN  ...   5.5   69.7   0.5  3.2   3.6   8.7  3.8  1.5  0.9   \n",
       "4               NaN  ...  11.0   87.9   0.8  5.8   6.6   7.5  5.0  2.0  0.7   \n",
       "\n",
       "   plusminus  \n",
       "0       10.0  \n",
       "1        5.2  \n",
       "2        4.0  \n",
       "3       -4.8  \n",
       "4        4.6  \n",
       "\n",
       "[5 rows x 41 columns]"
      ]
     },
     "execution_count": 3,
     "metadata": {},
     "output_type": "execute_result"
    }
   ],
   "source": [
    "df = pd.read_csv(\"NBA_19_records.csv\")\n",
    "df.head()"
   ]
  },
  {
   "cell_type": "code",
   "execution_count": 4,
   "metadata": {},
   "outputs": [
    {
     "data": {
      "text/plain": [
       "Index(['Unnamed: 0', 'rk', 'player', 'tm', 'salary_2019to2020',\n",
       "       'salary_2020to2021', 'salary_2021to2022', 'salary_2022to2023',\n",
       "       'salary_2023to2024', 'salary_2024to2025', 'signed_using', 'guaranteed',\n",
       "       'year_start', 'position', 'height', 'weight', 'birth_date', 'college',\n",
       "       'age', 'gp', 'w', 'l', 'min', 'pts', 'fgm', 'fga', 'fg_prc',\n",
       "       'three_pnt_m', 'three_pnt_a', 'three_pnt_prc', 'ftm', 'fta', 'ft_prc',\n",
       "       'oreb', 'dreb', 'reb', 'ast', 'tov', 'stl', 'blk', 'plusminus'],\n",
       "      dtype='object')"
      ]
     },
     "execution_count": 4,
     "metadata": {},
     "output_type": "execute_result"
    }
   ],
   "source": [
    "df.columns"
   ]
  },
  {
   "cell_type": "code",
   "execution_count": 5,
   "metadata": {},
   "outputs": [
    {
     "data": {
      "text/html": [
       "<div>\n",
       "<style scoped>\n",
       "    .dataframe tbody tr th:only-of-type {\n",
       "        vertical-align: middle;\n",
       "    }\n",
       "\n",
       "    .dataframe tbody tr th {\n",
       "        vertical-align: top;\n",
       "    }\n",
       "\n",
       "    .dataframe thead th {\n",
       "        text-align: right;\n",
       "    }\n",
       "</style>\n",
       "<table border=\"1\" class=\"dataframe\">\n",
       "  <thead>\n",
       "    <tr style=\"text-align: right;\">\n",
       "      <th></th>\n",
       "      <th>salary_2019to2020</th>\n",
       "      <th>age</th>\n",
       "      <th>gp</th>\n",
       "      <th>min</th>\n",
       "      <th>pts</th>\n",
       "      <th>fg_prc</th>\n",
       "      <th>three_pnt_prc</th>\n",
       "      <th>ft_prc</th>\n",
       "      <th>reb</th>\n",
       "      <th>ast</th>\n",
       "      <th>tov</th>\n",
       "      <th>plusminus</th>\n",
       "    </tr>\n",
       "  </thead>\n",
       "  <tbody>\n",
       "    <tr>\n",
       "      <th>0</th>\n",
       "      <td>40231758</td>\n",
       "      <td>31</td>\n",
       "      <td>69</td>\n",
       "      <td>33.8</td>\n",
       "      <td>27.3</td>\n",
       "      <td>47.2</td>\n",
       "      <td>43.7</td>\n",
       "      <td>91.6</td>\n",
       "      <td>5.3</td>\n",
       "      <td>5.2</td>\n",
       "      <td>2.8</td>\n",
       "      <td>10.0</td>\n",
       "    </tr>\n",
       "    <tr>\n",
       "      <th>1</th>\n",
       "      <td>38506482</td>\n",
       "      <td>34</td>\n",
       "      <td>58</td>\n",
       "      <td>32.0</td>\n",
       "      <td>15.6</td>\n",
       "      <td>41.9</td>\n",
       "      <td>35.8</td>\n",
       "      <td>86.2</td>\n",
       "      <td>4.6</td>\n",
       "      <td>8.2</td>\n",
       "      <td>2.6</td>\n",
       "      <td>5.2</td>\n",
       "    </tr>\n",
       "    <tr>\n",
       "      <th>2</th>\n",
       "      <td>38178000</td>\n",
       "      <td>30</td>\n",
       "      <td>73</td>\n",
       "      <td>36.0</td>\n",
       "      <td>22.9</td>\n",
       "      <td>42.8</td>\n",
       "      <td>29.0</td>\n",
       "      <td>65.6</td>\n",
       "      <td>11.1</td>\n",
       "      <td>10.7</td>\n",
       "      <td>4.5</td>\n",
       "      <td>4.0</td>\n",
       "    </tr>\n",
       "    <tr>\n",
       "      <th>3</th>\n",
       "      <td>37800000</td>\n",
       "      <td>28</td>\n",
       "      <td>32</td>\n",
       "      <td>34.5</td>\n",
       "      <td>20.7</td>\n",
       "      <td>44.4</td>\n",
       "      <td>30.2</td>\n",
       "      <td>69.7</td>\n",
       "      <td>3.6</td>\n",
       "      <td>8.7</td>\n",
       "      <td>3.8</td>\n",
       "      <td>-4.8</td>\n",
       "    </tr>\n",
       "    <tr>\n",
       "      <th>4</th>\n",
       "      <td>37800000</td>\n",
       "      <td>29</td>\n",
       "      <td>78</td>\n",
       "      <td>36.8</td>\n",
       "      <td>36.1</td>\n",
       "      <td>44.2</td>\n",
       "      <td>36.8</td>\n",
       "      <td>87.9</td>\n",
       "      <td>6.6</td>\n",
       "      <td>7.5</td>\n",
       "      <td>5.0</td>\n",
       "      <td>4.6</td>\n",
       "    </tr>\n",
       "  </tbody>\n",
       "</table>\n",
       "</div>"
      ],
      "text/plain": [
       "   salary_2019to2020  age  gp   min   pts  fg_prc  three_pnt_prc  ft_prc  \\\n",
       "0           40231758   31  69  33.8  27.3    47.2           43.7    91.6   \n",
       "1           38506482   34  58  32.0  15.6    41.9           35.8    86.2   \n",
       "2           38178000   30  73  36.0  22.9    42.8           29.0    65.6   \n",
       "3           37800000   28  32  34.5  20.7    44.4           30.2    69.7   \n",
       "4           37800000   29  78  36.8  36.1    44.2           36.8    87.9   \n",
       "\n",
       "    reb   ast  tov  plusminus  \n",
       "0   5.3   5.2  2.8       10.0  \n",
       "1   4.6   8.2  2.6        5.2  \n",
       "2  11.1  10.7  4.5        4.0  \n",
       "3   3.6   8.7  3.8       -4.8  \n",
       "4   6.6   7.5  5.0        4.6  "
      ]
     },
     "execution_count": 5,
     "metadata": {},
     "output_type": "execute_result"
    }
   ],
   "source": [
    "df = df[['salary_2019to2020','age', 'gp','min','pts','fg_prc','three_pnt_prc','ft_prc','reb','ast', 'tov','plusminus']]\n",
    "df.head()"
   ]
  },
  {
   "cell_type": "code",
   "execution_count": 6,
   "metadata": {},
   "outputs": [
    {
     "data": {
      "text/html": [
       "<div>\n",
       "<style scoped>\n",
       "    .dataframe tbody tr th:only-of-type {\n",
       "        vertical-align: middle;\n",
       "    }\n",
       "\n",
       "    .dataframe tbody tr th {\n",
       "        vertical-align: top;\n",
       "    }\n",
       "\n",
       "    .dataframe thead th {\n",
       "        text-align: right;\n",
       "    }\n",
       "</style>\n",
       "<table border=\"1\" class=\"dataframe\">\n",
       "  <thead>\n",
       "    <tr style=\"text-align: right;\">\n",
       "      <th></th>\n",
       "      <th>y</th>\n",
       "      <th>X1</th>\n",
       "      <th>X2</th>\n",
       "      <th>X3</th>\n",
       "      <th>X4</th>\n",
       "      <th>X5</th>\n",
       "      <th>X6</th>\n",
       "      <th>X7</th>\n",
       "      <th>X8</th>\n",
       "      <th>X9</th>\n",
       "      <th>X10</th>\n",
       "      <th>X11</th>\n",
       "    </tr>\n",
       "  </thead>\n",
       "  <tbody>\n",
       "    <tr>\n",
       "      <th>0</th>\n",
       "      <td>40231758</td>\n",
       "      <td>31</td>\n",
       "      <td>69</td>\n",
       "      <td>33.8</td>\n",
       "      <td>27.3</td>\n",
       "      <td>47.2</td>\n",
       "      <td>43.7</td>\n",
       "      <td>91.6</td>\n",
       "      <td>5.3</td>\n",
       "      <td>5.2</td>\n",
       "      <td>2.8</td>\n",
       "      <td>10.0</td>\n",
       "    </tr>\n",
       "    <tr>\n",
       "      <th>1</th>\n",
       "      <td>38506482</td>\n",
       "      <td>34</td>\n",
       "      <td>58</td>\n",
       "      <td>32.0</td>\n",
       "      <td>15.6</td>\n",
       "      <td>41.9</td>\n",
       "      <td>35.8</td>\n",
       "      <td>86.2</td>\n",
       "      <td>4.6</td>\n",
       "      <td>8.2</td>\n",
       "      <td>2.6</td>\n",
       "      <td>5.2</td>\n",
       "    </tr>\n",
       "    <tr>\n",
       "      <th>2</th>\n",
       "      <td>38178000</td>\n",
       "      <td>30</td>\n",
       "      <td>73</td>\n",
       "      <td>36.0</td>\n",
       "      <td>22.9</td>\n",
       "      <td>42.8</td>\n",
       "      <td>29.0</td>\n",
       "      <td>65.6</td>\n",
       "      <td>11.1</td>\n",
       "      <td>10.7</td>\n",
       "      <td>4.5</td>\n",
       "      <td>4.0</td>\n",
       "    </tr>\n",
       "    <tr>\n",
       "      <th>3</th>\n",
       "      <td>37800000</td>\n",
       "      <td>28</td>\n",
       "      <td>32</td>\n",
       "      <td>34.5</td>\n",
       "      <td>20.7</td>\n",
       "      <td>44.4</td>\n",
       "      <td>30.2</td>\n",
       "      <td>69.7</td>\n",
       "      <td>3.6</td>\n",
       "      <td>8.7</td>\n",
       "      <td>3.8</td>\n",
       "      <td>-4.8</td>\n",
       "    </tr>\n",
       "    <tr>\n",
       "      <th>4</th>\n",
       "      <td>37800000</td>\n",
       "      <td>29</td>\n",
       "      <td>78</td>\n",
       "      <td>36.8</td>\n",
       "      <td>36.1</td>\n",
       "      <td>44.2</td>\n",
       "      <td>36.8</td>\n",
       "      <td>87.9</td>\n",
       "      <td>6.6</td>\n",
       "      <td>7.5</td>\n",
       "      <td>5.0</td>\n",
       "      <td>4.6</td>\n",
       "    </tr>\n",
       "  </tbody>\n",
       "</table>\n",
       "</div>"
      ],
      "text/plain": [
       "          y  X1  X2    X3    X4    X5    X6    X7    X8    X9  X10   X11\n",
       "0  40231758  31  69  33.8  27.3  47.2  43.7  91.6   5.3   5.2  2.8  10.0\n",
       "1  38506482  34  58  32.0  15.6  41.9  35.8  86.2   4.6   8.2  2.6   5.2\n",
       "2  38178000  30  73  36.0  22.9  42.8  29.0  65.6  11.1  10.7  4.5   4.0\n",
       "3  37800000  28  32  34.5  20.7  44.4  30.2  69.7   3.6   8.7  3.8  -4.8\n",
       "4  37800000  29  78  36.8  36.1  44.2  36.8  87.9   6.6   7.5  5.0   4.6"
      ]
     },
     "execution_count": 6,
     "metadata": {},
     "output_type": "execute_result"
    }
   ],
   "source": [
    "df = df.rename(columns={\"salary_2019to2020\":\"y\",\"age\":\"X1\", \"gp\":\"X2\",\"min\":\"X3\",\"pts\":\"X4\",\"fg_prc\":\"X5\",\"three_pnt_prc\":\"X6\",\"ft_prc\":\"X7\",\"reb\":\"X8\",\"ast\":\"X9\", \"tov\":\"X10\",\"plusminus\":\"X11\"})\n",
    "df.head()"
   ]
  },
  {
   "cell_type": "code",
   "execution_count": 7,
   "metadata": {},
   "outputs": [],
   "source": [
    "# test train split\n",
    "# linear regression (sklearn)\n",
    "# coefficients/weights"
   ]
  },
  {
   "cell_type": "code",
   "execution_count": 8,
   "metadata": {},
   "outputs": [],
   "source": [
    "# X = df.drop(columns=['y'])\n",
    "# y = df['y']"
   ]
  },
  {
   "cell_type": "code",
   "execution_count": 9,
   "metadata": {},
   "outputs": [],
   "source": [
    "# X_train, X_test, y_train, y_test = train_test_split(X, y, random_state=42)"
   ]
  },
  {
   "cell_type": "code",
   "execution_count": 10,
   "metadata": {},
   "outputs": [],
   "source": [
    "# model = LinearRegression(normalize=True)"
   ]
  },
  {
   "cell_type": "code",
   "execution_count": 11,
   "metadata": {},
   "outputs": [],
   "source": [
    "# model.fit(X_train, y_train)"
   ]
  },
  {
   "cell_type": "code",
   "execution_count": 12,
   "metadata": {},
   "outputs": [],
   "source": [
    "# model.coef_"
   ]
  },
  {
   "cell_type": "code",
   "execution_count": 13,
   "metadata": {
    "scrolled": true
   },
   "outputs": [],
   "source": [
    "# stat_model = sm.OLS(y,X)\n",
    "# stat_result = stat_model.fit()\n",
    "# print(stat_result.summary())"
   ]
  },
  {
   "cell_type": "code",
   "execution_count": 14,
   "metadata": {},
   "outputs": [],
   "source": [
    "# scalar"
   ]
  },
  {
   "cell_type": "code",
   "execution_count": 15,
   "metadata": {},
   "outputs": [
    {
     "data": {
      "text/html": [
       "<div>\n",
       "<style scoped>\n",
       "    .dataframe tbody tr th:only-of-type {\n",
       "        vertical-align: middle;\n",
       "    }\n",
       "\n",
       "    .dataframe tbody tr th {\n",
       "        vertical-align: top;\n",
       "    }\n",
       "\n",
       "    .dataframe thead th {\n",
       "        text-align: right;\n",
       "    }\n",
       "</style>\n",
       "<table border=\"1\" class=\"dataframe\">\n",
       "  <thead>\n",
       "    <tr style=\"text-align: right;\">\n",
       "      <th></th>\n",
       "      <th>y</th>\n",
       "      <th>X1</th>\n",
       "      <th>X4</th>\n",
       "      <th>X8</th>\n",
       "      <th>X9</th>\n",
       "      <th>X11</th>\n",
       "    </tr>\n",
       "  </thead>\n",
       "  <tbody>\n",
       "    <tr>\n",
       "      <th>0</th>\n",
       "      <td>40231758</td>\n",
       "      <td>31</td>\n",
       "      <td>27.3</td>\n",
       "      <td>5.3</td>\n",
       "      <td>5.2</td>\n",
       "      <td>10.0</td>\n",
       "    </tr>\n",
       "    <tr>\n",
       "      <th>1</th>\n",
       "      <td>38506482</td>\n",
       "      <td>34</td>\n",
       "      <td>15.6</td>\n",
       "      <td>4.6</td>\n",
       "      <td>8.2</td>\n",
       "      <td>5.2</td>\n",
       "    </tr>\n",
       "    <tr>\n",
       "      <th>2</th>\n",
       "      <td>38178000</td>\n",
       "      <td>30</td>\n",
       "      <td>22.9</td>\n",
       "      <td>11.1</td>\n",
       "      <td>10.7</td>\n",
       "      <td>4.0</td>\n",
       "    </tr>\n",
       "    <tr>\n",
       "      <th>3</th>\n",
       "      <td>37800000</td>\n",
       "      <td>28</td>\n",
       "      <td>20.7</td>\n",
       "      <td>3.6</td>\n",
       "      <td>8.7</td>\n",
       "      <td>-4.8</td>\n",
       "    </tr>\n",
       "    <tr>\n",
       "      <th>4</th>\n",
       "      <td>37800000</td>\n",
       "      <td>29</td>\n",
       "      <td>36.1</td>\n",
       "      <td>6.6</td>\n",
       "      <td>7.5</td>\n",
       "      <td>4.6</td>\n",
       "    </tr>\n",
       "  </tbody>\n",
       "</table>\n",
       "</div>"
      ],
      "text/plain": [
       "          y  X1    X4    X8    X9   X11\n",
       "0  40231758  31  27.3   5.3   5.2  10.0\n",
       "1  38506482  34  15.6   4.6   8.2   5.2\n",
       "2  38178000  30  22.9  11.1  10.7   4.0\n",
       "3  37800000  28  20.7   3.6   8.7  -4.8\n",
       "4  37800000  29  36.1   6.6   7.5   4.6"
      ]
     },
     "execution_count": 15,
     "metadata": {},
     "output_type": "execute_result"
    }
   ],
   "source": [
    "new_df = df[['y', 'X1', 'X4', 'X8', 'X9', 'X11']]\n",
    "new_df"
   ]
  },
  {
   "cell_type": "code",
   "execution_count": 16,
   "metadata": {},
   "outputs": [],
   "source": [
    "X = new_df.drop(columns=['y'])\n",
    "y = new_df['y'].values.reshape(-1,1)"
   ]
  },
  {
   "cell_type": "code",
   "execution_count": 17,
   "metadata": {},
   "outputs": [
    {
     "name": "stdout",
     "output_type": "stream",
     "text": [
      "(295, 5) (295, 1)\n"
     ]
    },
    {
     "data": {
      "text/plain": [
       "(295, 5)"
      ]
     },
     "execution_count": 17,
     "metadata": {},
     "output_type": "execute_result"
    }
   ],
   "source": [
    "print(X.shape, y.shape)\n",
    "X.shape"
   ]
  },
  {
   "cell_type": "code",
   "execution_count": 18,
   "metadata": {},
   "outputs": [],
   "source": [
    "X_train, X_test, y_train, y_test = train_test_split(X, y, random_state=42)"
   ]
  },
  {
   "cell_type": "code",
   "execution_count": 19,
   "metadata": {},
   "outputs": [],
   "source": [
    "# X_train = np.array(X_train).reshape(1, -1)\n",
    "# y_train = np.array(y_train).reshape(1, -1)\n",
    "# X_test = np.array(X_train).reshape(1, -1)\n",
    "# y_test = np.array(y_train).reshape(1, -1)"
   ]
  },
  {
   "cell_type": "code",
   "execution_count": 20,
   "metadata": {},
   "outputs": [],
   "source": [
    "from sklearn.preprocessing import StandardScaler\n",
    "X_scaler = StandardScaler().fit(X_train)\n",
    "y_scaler = StandardScaler().fit(y_train)"
   ]
  },
  {
   "cell_type": "code",
   "execution_count": 21,
   "metadata": {},
   "outputs": [],
   "source": [
    "X_train_scaled = X_scaler.transform(X_train)\n",
    "X_test_scaled = X_scaler.transform(X_test)\n",
    "y_train_scaled = y_scaler.transform(y_train)\n",
    "y_test_scaled = y_scaler.transform(y_test)"
   ]
  },
  {
   "cell_type": "code",
   "execution_count": 22,
   "metadata": {},
   "outputs": [],
   "source": [
    "model = LinearRegression(normalize=False)"
   ]
  },
  {
   "cell_type": "code",
   "execution_count": 23,
   "metadata": {},
   "outputs": [
    {
     "name": "stdout",
     "output_type": "stream",
     "text": [
      "Training Score: 0.5750174983280252\n",
      "Testing Score: 0.6386285703232047\n"
     ]
    }
   ],
   "source": [
    "model.fit(X_train_scaled, y_train_scaled)\n",
    "training_score = model.score(X_train_scaled, y_train_scaled)\n",
    "testing_score = model.score(X_test_scaled, y_test_scaled)\n",
    "\n",
    "print(f\"Training Score: {training_score}\")\n",
    "print(f\"Testing Score: {testing_score}\")"
   ]
  },
  {
   "cell_type": "code",
   "execution_count": 24,
   "metadata": {},
   "outputs": [
    {
     "data": {
      "text/plain": [
       "array([[-0.70238669],\n",
       "       [-0.21499318],\n",
       "       [ 0.1549395 ],\n",
       "       [ 0.23843428],\n",
       "       [ 0.63750004],\n",
       "       [ 1.44372954],\n",
       "       [ 0.97208205],\n",
       "       [-1.3349269 ],\n",
       "       [-0.35710215],\n",
       "       [ 0.43916826],\n",
       "       [ 0.69226001],\n",
       "       [-0.19516472],\n",
       "       [ 0.15850451],\n",
       "       [ 0.17616554],\n",
       "       [-0.7785555 ],\n",
       "       [ 0.53226194],\n",
       "       [-0.23614698],\n",
       "       [-0.71719265],\n",
       "       [-0.33891172],\n",
       "       [-0.10125468],\n",
       "       [ 0.14143158],\n",
       "       [-0.51928378],\n",
       "       [-0.4579498 ],\n",
       "       [-0.0058557 ],\n",
       "       [-0.59661422],\n",
       "       [ 2.47043568],\n",
       "       [-0.86197236],\n",
       "       [-1.05012246],\n",
       "       [-0.16116432],\n",
       "       [-0.08543803],\n",
       "       [-0.36338957],\n",
       "       [ 1.55139763],\n",
       "       [-0.30708321],\n",
       "       [ 0.21679863],\n",
       "       [ 0.15857036],\n",
       "       [ 0.34743048],\n",
       "       [-0.67610421],\n",
       "       [-0.22696274],\n",
       "       [-0.74116419],\n",
       "       [-1.2341498 ],\n",
       "       [ 0.30576505],\n",
       "       [ 0.65036401],\n",
       "       [-0.39060225],\n",
       "       [-0.46515386],\n",
       "       [ 0.02040872],\n",
       "       [-0.17261232],\n",
       "       [ 1.03571698],\n",
       "       [ 0.04871315],\n",
       "       [ 2.00869623],\n",
       "       [-0.17652078],\n",
       "       [ 0.73694394],\n",
       "       [-0.27725222],\n",
       "       [ 1.72795744],\n",
       "       [ 0.90663102],\n",
       "       [-0.78285945],\n",
       "       [ 1.97256867],\n",
       "       [ 0.53335029],\n",
       "       [-0.16678242],\n",
       "       [ 1.04124214],\n",
       "       [-0.03290245],\n",
       "       [ 0.17538796],\n",
       "       [ 0.87701922],\n",
       "       [-0.41298554],\n",
       "       [-0.49558429],\n",
       "       [-0.44681946],\n",
       "       [-0.1303303 ],\n",
       "       [ 0.52507494],\n",
       "       [-0.78016151],\n",
       "       [ 0.62613558],\n",
       "       [-0.47791672],\n",
       "       [-0.5088474 ],\n",
       "       [ 0.01246794],\n",
       "       [ 0.71321823],\n",
       "       [ 0.5083485 ]])"
      ]
     },
     "execution_count": 24,
     "metadata": {},
     "output_type": "execute_result"
    }
   ],
   "source": [
    "model.predict(X_test_scaled)"
   ]
  },
  {
   "cell_type": "markdown",
   "metadata": {},
   "source": []
  },
  {
   "cell_type": "code",
   "execution_count": 25,
   "metadata": {},
   "outputs": [],
   "source": [
    "# model.fit(X_train, y_train)\n",
    "# training_score = model.score(X_train, y_train)\n",
    "# testing_score = model.score(X_test, y_test)\n",
    "\n",
    "# print(f\"Training Score: {training_score}\")\n",
    "# print(f\"Testing Score: {testing_score}\")"
   ]
  },
  {
   "cell_type": "code",
   "execution_count": 26,
   "metadata": {},
   "outputs": [
    {
     "data": {
      "text/plain": [
       "array([[0.18122056, 0.47808353, 0.14082799, 0.19565752, 0.09388452]])"
      ]
     },
     "execution_count": 26,
     "metadata": {},
     "output_type": "execute_result"
    }
   ],
   "source": [
    "model.coef_"
   ]
  },
  {
   "cell_type": "code",
   "execution_count": 27,
   "metadata": {},
   "outputs": [
    {
     "data": {
      "text/plain": [
       "Text(0.5, 1.0, 'Residual Plot')"
      ]
     },
     "execution_count": 27,
     "metadata": {},
     "output_type": "execute_result"
    },
    {
     "data": {
      "image/png": "[encoded data removed]",
      "text/plain": [
       "<Figure size 432x288 with 1 Axes>"
      ]
     },
     "metadata": {
      "needs_background": "light"
     },
     "output_type": "display_data"
    }
   ],
   "source": [
    "plt.scatter(model.predict(X_train), model.predict(X_train) - y_train, c=\"blue\", label=\"Training Data\")\n",
    "plt.scatter(model.predict(X_test), model.predict(X_test) - y_test, c=\"orange\", label=\"Testing Data\")\n",
    "plt.legend()\n",
    "plt.hlines(y=0, xmin=y.min(), xmax=y.max())\n",
    "plt.title(\"Residual Plot\")"
   ]
  },
  {
   "cell_type": "code",
   "execution_count": 28,
   "metadata": {},
   "outputs": [
    {
     "data": {
      "text/plain": [
       "array([[16.36000203]])"
      ]
     },
     "execution_count": 28,
     "metadata": {},
     "output_type": "execute_result"
    }
   ],
   "source": [
    "model.predict(np.array([34,15.6,4.6,8.2,5.2]).reshape(1, -1))"
   ]
  },
  {
   "cell_type": "code",
   "execution_count": null,
   "metadata": {},
   "outputs": [],
   "source": []
  }
 ],
 "metadata": {
  "kernelspec": {
   "display_name": "Python 3",
   "language": "python",
   "name": "python3"
  },
  "language_info": {
   "codemirror_mode": {
    "name": "ipython",
    "version": 3
   },
   "file_extension": ".py",
   "mimetype": "text/x-python",
   "name": "python",
   "nbconvert_exporter": "python",
   "pygments_lexer": "ipython3",
   "version": "3.7.4"
  }
 },
 "nbformat": 4,
 "nbformat_minor": 2
}
